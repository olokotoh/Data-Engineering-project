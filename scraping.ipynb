{
 "cells": [
  {
   "cell_type": "code",
   "execution_count": 2,
   "metadata": {},
   "outputs": [],
   "source": [
    "from bs4 import BeautifulSoup as bs\n",
    "import time\n",
    "from selenium import webdriver\n",
    "from selenium import webdriver\n",
    "from selenium.webdriver.common.keys import Keys\n",
    "import pandas as pd"
   ]
  },
  {
   "cell_type": "code",
   "execution_count": 3,
   "metadata": {},
   "outputs": [],
   "source": [
    "driver = webdriver.Chrome('/usr/bin/chromedriver')"
   ]
  },
  {
   "cell_type": "code",
   "execution_count": 4,
   "metadata": {},
   "outputs": [],
   "source": [
    "all_data = []\n",
    "for pages in range(1,4):\n",
    "    \"\"\"\n",
    "    it was discovered that for each page,only one part of the url is changing, i am going to modifiying the url using f string\n",
    "    one can change pages by clicking the pagination at the bottom \n",
    "    \"\"\"\n",
    "    url = f'https://hfr.health.gov.ng/facilities/hospitals-search?_token=4Wll44OzOr1kZWrvOzm7FGC1y3zCYbgGs99vHRSf&state_id=124&ward_id=0&facility_level_id=0&ownership_id=0&operational_status_id=1&registration_status_id=2&license_status_id=1&geo_codes=0&service_type=0&service_category_id=0&entries_per_page=20&page={pages}'\n",
    "    driver.get(url)\n",
    "    time.sleep(5)\n",
    "    \n",
    "    #gets the source code of the table\n",
    "    hosp = driver.find_element_by_id('hosp').get_attribute('innerHTML')\n",
    "    \n",
    "    #parse the code\n",
    "    soup = bs(hosp,'lxml')\n",
    "    \n",
    "    #find all the rows\n",
    "    rows = soup.find_all('tr')\n",
    "    \n",
    "    #the first element is the cloumns while the others are rows\n",
    "    row = rows[1:]\n",
    "    \n",
    "    for j,i in enumerate(row):\n",
    "        details = [a.text for a in i.find_all('td')[:-1]]\n",
    "        Facility_UID = details[3]\n",
    "        xpath = f'//*[@id=\"hosp\"]/tbody/tr[{j+1}]/td[9]/a/button'\n",
    "        #just in case it didn't close the pop up the first time\n",
    "        webdriver.ActionChains(driver).send_keys(Keys.ESCAPE).perform()\n",
    "        time.sleep(5)\n",
    "        temp_all_data = [[Facility_UID]]\n",
    "        #sometimes, the click does not work the first time and fails twice too, that is while i used for loop\n",
    "        for i in range(5):\n",
    "            try:\n",
    "                driver.find_element_by_xpath(xpath).click()\n",
    "            except:\n",
    "                pass\n",
    "\n",
    "\n",
    "\n",
    "        html = driver.find_element_by_xpath('//*[@id=\"view_details\"]/div').get_attribute('innerHTML')\n",
    "        soup = bs(html,'lxml')   \n",
    "        webdriver.ActionChains(driver).send_keys(Keys.ESCAPE).perform()\n",
    "        panel = soup.find_all('div',{'class':'panel panel-default'})\n",
    "\n",
    "        for k in panel:\n",
    "            each_row = k.find_all('div',{'class':'row'})\n",
    "            data = []\n",
    "            for l in each_row:\n",
    "                data.append(l.find('div').text)\n",
    "            temp_all_data.append(data)\n",
    "        all_data.append(temp_all_data)"
   ]
  },
  {
   "cell_type": "code",
   "execution_count": 5,
   "metadata": {},
   "outputs": [
    {
     "data": {
      "text/plain": [
       "60"
      ]
     },
     "execution_count": 5,
     "metadata": {},
     "output_type": "execute_result"
    }
   ],
   "source": [
    "len(all_data)"
   ]
  },
  {
   "cell_type": "code",
   "execution_count": null,
   "metadata": {},
   "outputs": [],
   "source": []
  }
 ],
 "metadata": {
  "interpreter": {
   "hash": "1f56e9671c45237803796d6d43f37af9ccf334edeac63f5f13c19b485064c761"
  },
  "kernelspec": {
   "display_name": "Python 3.9.7 ('base')",
   "language": "python",
   "name": "python3"
  },
  "language_info": {
   "codemirror_mode": {
    "name": "ipython",
    "version": 3
   },
   "file_extension": ".py",
   "mimetype": "text/x-python",
   "name": "python",
   "nbconvert_exporter": "python",
   "pygments_lexer": "ipython3",
   "version": "3.9.7"
  },
  "orig_nbformat": 4
 },
 "nbformat": 4,
 "nbformat_minor": 2
}
