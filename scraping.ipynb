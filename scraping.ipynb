{
 "cells": [
  {
   "cell_type": "code",
   "execution_count": 3,
   "metadata": {},
   "outputs": [],
   "source": [
    "from bs4 import BeautifulSoup as bs\n",
    "import time\n",
    "from selenium import webdriver\n",
    "from selenium import webdriver\n",
    "from selenium.webdriver.common.keys import Keys\n",
    "import pandas as pd"
   ]
  },
  {
   "cell_type": "code",
   "execution_count": 4,
   "metadata": {},
   "outputs": [],
   "source": [
    "driver = webdriver.Chrome('/usr/bin/chromedriver')"
   ]
  },
  {
   "cell_type": "code",
   "execution_count": 5,
   "metadata": {},
   "outputs": [],
   "source": [
    "all_data = []\n",
    "for pages in range(1,4):\n",
    "    \"\"\"\n",
    "    it was discovered that for each page,only one part of the url is changing, i am going to modifiying the url using f string\n",
    "    one can change pages by clicking the pagination at the bottom \n",
    "    \"\"\"\n",
    "    url = f'https://hfr.health.gov.ng/facilities/hospitals-search?_token=4Wll44OzOr1kZWrvOzm7FGC1y3zCYbgGs99vHRSf&state_id=124&ward_id=0&facility_level_id=0&ownership_id=0&operational_status_id=1&registration_status_id=2&license_status_id=1&geo_codes=0&service_type=0&service_category_id=0&entries_per_page=20&page={pages}'\n",
    "    driver.get(url)\n",
    "    time.sleep(5)\n",
    "    \n",
    "    #gets the source code of the table\n",
    "    hosp = driver.find_element_by_id('hosp').get_attribute('innerHTML')\n",
    "    \n",
    "    #parse the code\n",
    "    soup = bs(hosp,'lxml')\n",
    "    \n",
    "    #find all the rows\n",
    "    rows = soup.find_all('tr')\n",
    "    \n",
    "    #the first element is the cloumns while the others are rows\n",
    "    row = rows[1:]\n",
    "    \n",
    "    for j,i in enumerate(row):\n",
    "        details = [a.text for a in i.find_all('td')[:-1]]\n",
    "        Facility_UID = details[3]\n",
    "        xpath = f'//*[@id=\"hosp\"]/tbody/tr[{j+1}]/td[9]/a/button'\n",
    "        #just in case it didn't close the pop up the first time\n",
    "        webdriver.ActionChains(driver).send_keys(Keys.ESCAPE).perform()\n",
    "        time.sleep(5)\n",
    "        temp_all_data = [[Facility_UID]]\n",
    "        #sometimes, the click does not work the first time and fails twice too, that is while i used for loop\n",
    "        for i in range(5):\n",
    "            try:\n",
    "                driver.find_element_by_xpath(xpath).click()\n",
    "            except:\n",
    "                pass\n",
    "\n",
    "\n",
    "\n",
    "        html = driver.find_element_by_xpath('//*[@id=\"view_details\"]/div').get_attribute('innerHTML')\n",
    "        soup = bs(html,'lxml')   \n",
    "        webdriver.ActionChains(driver).send_keys(Keys.ESCAPE).perform()\n",
    "        panel = soup.find_all('div',{'class':'panel panel-default'})\n",
    "\n",
    "        for k in panel:\n",
    "            each_row = k.find_all('div',{'class':'row'})\n",
    "            data = []\n",
    "            for l in each_row:\n",
    "                data.append(l.find('div').text)\n",
    "            temp_all_data.append(data)\n",
    "        all_data.append(temp_all_data)"
   ]
  },
  {
   "cell_type": "code",
   "execution_count": 6,
   "metadata": {},
   "outputs": [
    {
     "data": {
      "text/plain": [
       "60"
      ]
     },
     "execution_count": 6,
     "metadata": {},
     "output_type": "execute_result"
    }
   ],
   "source": [
    "len(all_data)"
   ]
  },
  {
   "cell_type": "code",
   "execution_count": 7,
   "metadata": {},
   "outputs": [],
   "source": [
    "#flatten the list\n",
    "flattened_data = []\n",
    "for data in all_data:\n",
    "    flattened = [val for sub_data in data for val in sub_data]\n",
    "    flattened_data.append(flattened)"
   ]
  },
  {
   "cell_type": "code",
   "execution_count": 8,
   "metadata": {},
   "outputs": [],
   "source": [
    "length_data = []\n",
    "for i in flattened_data:\n",
    "    length_data.append(len(i))"
   ]
  },
  {
   "cell_type": "code",
   "execution_count": 9,
   "metadata": {},
   "outputs": [
    {
     "data": {
      "text/plain": [
       "['Facility_uid',\n",
       " 'Facility Code:',\n",
       " 'State Unique ID:',\n",
       " 'Registration No:',\n",
       " 'Facility Name:',\n",
       " 'Alternate Name:',\n",
       " 'Start Date:',\n",
       " 'Ownership:',\n",
       " 'Ownership Type:',\n",
       " 'Facility Level:',\n",
       " 'Facility Level Option:',\n",
       " 'Days of Operation:',\n",
       " 'Hours of Operation:',\n",
       " 'State:',\n",
       " 'LGA:',\n",
       " 'Ward:',\n",
       " ' Physical Location:',\n",
       " 'Postal Address:',\n",
       " 'Longitude:',\n",
       " 'Latitude:',\n",
       " 'Phone Number:',\n",
       " 'Alternate Number:',\n",
       " 'Email Address:',\n",
       " 'Website:',\n",
       " 'Operational Status:',\n",
       " 'Registration Status:',\n",
       " 'License Status:',\n",
       " 'Out Patient Services:',\n",
       " 'In Patient Services:',\n",
       " 'Medical Services:',\n",
       " 'Surgical Services:',\n",
       " 'Obsterics and Gynecology Services:',\n",
       " 'Pediatrics Services:',\n",
       " 'Dental Services:',\n",
       " 'Specific Clinical Services:',\n",
       " 'Total number of Beds:',\n",
       " 'Onsite Laboratory:',\n",
       " 'Onsite Imaging:',\n",
       " 'Onsite Pharmacy:',\n",
       " 'Mortuary Services:',\n",
       " 'Ambulance Services:',\n",
       " 'Number of Doctors:',\n",
       " 'Number of Pharmacists:',\n",
       " 'Number Pharmacy Technicians:',\n",
       " 'Number of Dentists:',\n",
       " 'Number of Dental Technicians:',\n",
       " 'Number of Nurses:',\n",
       " 'Number of Midwifes:',\n",
       " 'Number of Nurses/Midwifes:',\n",
       " 'Number of Lab Technicians:',\n",
       " 'Number of Lab Scientits:',\n",
       " 'Health Records/HIM Officers:',\n",
       " 'Number of Community Health Officer:',\n",
       " 'Number of Community Health Extension Worker:',\n",
       " 'Number of Junior Com Health Extension Worker:',\n",
       " 'Number of Environmental Health Officers:',\n",
       " 'Number of Health Attendant/Assistant:']"
      ]
     },
     "execution_count": 9,
     "metadata": {},
     "output_type": "execute_result"
    }
   ],
   "source": [
    "panel = soup.find_all('div',{'class':'panel panel-default'})\n",
    "\n",
    "labels = ['Facility_uid']\n",
    "for k in panel:\n",
    "    each_row = [i.text for i in k.find_all('label')]\n",
    "    for l in each_row:\n",
    "        labels.append(l)\n",
    "labels"
   ]
  },
  {
   "cell_type": "code",
   "execution_count": 10,
   "metadata": {},
   "outputs": [],
   "source": [
    "df = pd.DataFrame(data=flattened_data,columns=labels)"
   ]
  },
  {
   "cell_type": "code",
   "execution_count": 11,
   "metadata": {},
   "outputs": [
    {
     "data": {
      "text/html": [
       "<div>\n",
       "<style scoped>\n",
       "    .dataframe tbody tr th:only-of-type {\n",
       "        vertical-align: middle;\n",
       "    }\n",
       "\n",
       "    .dataframe tbody tr th {\n",
       "        vertical-align: top;\n",
       "    }\n",
       "\n",
       "    .dataframe thead th {\n",
       "        text-align: right;\n",
       "    }\n",
       "</style>\n",
       "<table border=\"1\" class=\"dataframe\">\n",
       "  <thead>\n",
       "    <tr style=\"text-align: right;\">\n",
       "      <th></th>\n",
       "      <th>Facility_uid</th>\n",
       "      <th>Facility Code:</th>\n",
       "      <th>State Unique ID:</th>\n",
       "      <th>Registration No:</th>\n",
       "      <th>Facility Name:</th>\n",
       "      <th>Alternate Name:</th>\n",
       "      <th>Start Date:</th>\n",
       "      <th>Ownership:</th>\n",
       "      <th>Ownership Type:</th>\n",
       "      <th>Facility Level:</th>\n",
       "      <th>...</th>\n",
       "      <th>Number of Midwifes:</th>\n",
       "      <th>Number of Nurses/Midwifes:</th>\n",
       "      <th>Number of Lab Technicians:</th>\n",
       "      <th>Number of Lab Scientits:</th>\n",
       "      <th>Health Records/HIM Officers:</th>\n",
       "      <th>Number of Community Health Officer:</th>\n",
       "      <th>Number of Community Health Extension Worker:</th>\n",
       "      <th>Number of Junior Com Health Extension Worker:</th>\n",
       "      <th>Number of Environmental Health Officers:</th>\n",
       "      <th>Number of Health Attendant/Assistant:</th>\n",
       "    </tr>\n",
       "  </thead>\n",
       "  <tbody>\n",
       "    <tr>\n",
       "      <th>0</th>\n",
       "      <td>51951895</td>\n",
       "      <td>24/01/1/1/2/0003</td>\n",
       "      <td>24011020002</td>\n",
       "      <td></td>\n",
       "      <td>Adu Medical Clinic</td>\n",
       "      <td></td>\n",
       "      <td>1987-12-01</td>\n",
       "      <td>Private</td>\n",
       "      <td>For Profit</td>\n",
       "      <td>Primary</td>\n",
       "      <td>...</td>\n",
       "      <td>1</td>\n",
       "      <td></td>\n",
       "      <td></td>\n",
       "      <td></td>\n",
       "      <td></td>\n",
       "      <td></td>\n",
       "      <td>2</td>\n",
       "      <td></td>\n",
       "      <td></td>\n",
       "      <td>4</td>\n",
       "    </tr>\n",
       "    <tr>\n",
       "      <th>1</th>\n",
       "      <td>30605129</td>\n",
       "      <td>24/01/1/1/2/0003</td>\n",
       "      <td>24011020002</td>\n",
       "      <td></td>\n",
       "      <td>Adu Medical Clinic</td>\n",
       "      <td></td>\n",
       "      <td>1987-12-01</td>\n",
       "      <td>Private</td>\n",
       "      <td>For Profit</td>\n",
       "      <td>Primary</td>\n",
       "      <td>...</td>\n",
       "      <td>1</td>\n",
       "      <td></td>\n",
       "      <td></td>\n",
       "      <td></td>\n",
       "      <td></td>\n",
       "      <td></td>\n",
       "      <td>2</td>\n",
       "      <td></td>\n",
       "      <td></td>\n",
       "      <td>4</td>\n",
       "    </tr>\n",
       "    <tr>\n",
       "      <th>2</th>\n",
       "      <td>30710800</td>\n",
       "      <td>24/01/1/1/1/0068</td>\n",
       "      <td>2401120078</td>\n",
       "      <td></td>\n",
       "      <td>May-Fair Medical Centre</td>\n",
       "      <td></td>\n",
       "      <td>1989-09-03</td>\n",
       "      <td>Private</td>\n",
       "      <td>For Profit</td>\n",
       "      <td>Primary</td>\n",
       "      <td>...</td>\n",
       "      <td>2</td>\n",
       "      <td></td>\n",
       "      <td>2</td>\n",
       "      <td>1</td>\n",
       "      <td>1</td>\n",
       "      <td>1</td>\n",
       "      <td></td>\n",
       "      <td></td>\n",
       "      <td></td>\n",
       "      <td>3</td>\n",
       "    </tr>\n",
       "  </tbody>\n",
       "</table>\n",
       "<p>3 rows × 57 columns</p>\n",
       "</div>"
      ],
      "text/plain": [
       "  Facility_uid    Facility Code: State Unique ID: Registration No:  \\\n",
       "0     51951895  24/01/1/1/2/0003      24011020002                    \n",
       "1     30605129  24/01/1/1/2/0003      24011020002                    \n",
       "2     30710800  24/01/1/1/1/0068       2401120078                    \n",
       "\n",
       "            Facility Name: Alternate Name: Start Date: Ownership:  \\\n",
       "0       Adu Medical Clinic                  1987-12-01    Private   \n",
       "1       Adu Medical Clinic                  1987-12-01    Private   \n",
       "2  May-Fair Medical Centre                  1989-09-03    Private   \n",
       "\n",
       "  Ownership Type: Facility Level:  ... Number of Midwifes:  \\\n",
       "0      For Profit         Primary  ...                   1   \n",
       "1      For Profit         Primary  ...                   1   \n",
       "2      For Profit         Primary  ...                   2   \n",
       "\n",
       "  Number of Nurses/Midwifes: Number of Lab Technicians:  \\\n",
       "0                                                         \n",
       "1                                                         \n",
       "2                                                     2   \n",
       "\n",
       "  Number of Lab Scientits: Health Records/HIM Officers:  \\\n",
       "0                                                         \n",
       "1                                                         \n",
       "2                        1                            1   \n",
       "\n",
       "  Number of Community Health Officer:  \\\n",
       "0                                       \n",
       "1                                       \n",
       "2                                   1   \n",
       "\n",
       "  Number of Community Health Extension Worker:  \\\n",
       "0                                            2   \n",
       "1                                            2   \n",
       "2                                                \n",
       "\n",
       "  Number of Junior Com Health Extension Worker:  \\\n",
       "0                                                 \n",
       "1                                                 \n",
       "2                                                 \n",
       "\n",
       "  Number of Environmental Health Officers:  \\\n",
       "0                                            \n",
       "1                                            \n",
       "2                                            \n",
       "\n",
       "  Number of Health Attendant/Assistant:  \n",
       "0                                     4  \n",
       "1                                     4  \n",
       "2                                     3  \n",
       "\n",
       "[3 rows x 57 columns]"
      ]
     },
     "execution_count": 11,
     "metadata": {},
     "output_type": "execute_result"
    }
   ],
   "source": [
    "df.head(3)"
   ]
  },
  {
   "cell_type": "code",
   "execution_count": 12,
   "metadata": {},
   "outputs": [],
   "source": [
    "df.to_csv('healthData.csv',index=False)"
   ]
  },
  {
   "cell_type": "code",
   "execution_count": 27,
   "metadata": {},
   "outputs": [
    {
     "name": "stderr",
     "output_type": "stream",
     "text": [
      "/home/aslim/anaconda3/lib/python3.9/site-packages/pyspark/bin/spark-class: line 96: CMD: bad array subscript\n"
     ]
    },
    {
     "ename": "Exception",
     "evalue": "Java gateway process exited before sending its port number",
     "output_type": "error",
     "traceback": [
      "\u001b[0;31m---------------------------------------------------------------------------\u001b[0m",
      "\u001b[0;31mException\u001b[0m                                 Traceback (most recent call last)",
      "\u001b[0;32m/tmp/ipykernel_88644/457542620.py\u001b[0m in \u001b[0;36m<module>\u001b[0;34m\u001b[0m\n\u001b[1;32m      1\u001b[0m \u001b[0;32mfrom\u001b[0m \u001b[0mpyspark\u001b[0m\u001b[0;34m.\u001b[0m\u001b[0msql\u001b[0m \u001b[0;32mimport\u001b[0m \u001b[0mSparkSession\u001b[0m\u001b[0;34m\u001b[0m\u001b[0;34m\u001b[0m\u001b[0m\n\u001b[0;32m----> 2\u001b[0;31m \u001b[0mmy_spark\u001b[0m \u001b[0;34m=\u001b[0m \u001b[0mSparkSession\u001b[0m\u001b[0;34m.\u001b[0m\u001b[0mbuilder\u001b[0m\u001b[0;34m.\u001b[0m\u001b[0mgetOrCreate\u001b[0m\u001b[0;34m(\u001b[0m\u001b[0;34m)\u001b[0m\u001b[0;34m\u001b[0m\u001b[0;34m\u001b[0m\u001b[0m\n\u001b[0m",
      "\u001b[0;32m~/anaconda3/lib/python3.9/site-packages/pyspark/sql/session.py\u001b[0m in \u001b[0;36mgetOrCreate\u001b[0;34m(self)\u001b[0m\n\u001b[1;32m    226\u001b[0m                             \u001b[0msparkConf\u001b[0m\u001b[0;34m.\u001b[0m\u001b[0mset\u001b[0m\u001b[0;34m(\u001b[0m\u001b[0mkey\u001b[0m\u001b[0;34m,\u001b[0m \u001b[0mvalue\u001b[0m\u001b[0;34m)\u001b[0m\u001b[0;34m\u001b[0m\u001b[0;34m\u001b[0m\u001b[0m\n\u001b[1;32m    227\u001b[0m                         \u001b[0;31m# This SparkContext may be an existing one.\u001b[0m\u001b[0;34m\u001b[0m\u001b[0;34m\u001b[0m\u001b[0m\n\u001b[0;32m--> 228\u001b[0;31m                         \u001b[0msc\u001b[0m \u001b[0;34m=\u001b[0m \u001b[0mSparkContext\u001b[0m\u001b[0;34m.\u001b[0m\u001b[0mgetOrCreate\u001b[0m\u001b[0;34m(\u001b[0m\u001b[0msparkConf\u001b[0m\u001b[0;34m)\u001b[0m\u001b[0;34m\u001b[0m\u001b[0;34m\u001b[0m\u001b[0m\n\u001b[0m\u001b[1;32m    229\u001b[0m                     \u001b[0;31m# Do not update `SparkConf` for existing `SparkContext`, as it's shared\u001b[0m\u001b[0;34m\u001b[0m\u001b[0;34m\u001b[0m\u001b[0m\n\u001b[1;32m    230\u001b[0m                     \u001b[0;31m# by all sessions.\u001b[0m\u001b[0;34m\u001b[0m\u001b[0;34m\u001b[0m\u001b[0m\n",
      "\u001b[0;32m~/anaconda3/lib/python3.9/site-packages/pyspark/context.py\u001b[0m in \u001b[0;36mgetOrCreate\u001b[0;34m(cls, conf)\u001b[0m\n\u001b[1;32m    382\u001b[0m         \u001b[0;32mwith\u001b[0m \u001b[0mSparkContext\u001b[0m\u001b[0;34m.\u001b[0m\u001b[0m_lock\u001b[0m\u001b[0;34m:\u001b[0m\u001b[0;34m\u001b[0m\u001b[0;34m\u001b[0m\u001b[0m\n\u001b[1;32m    383\u001b[0m             \u001b[0;32mif\u001b[0m \u001b[0mSparkContext\u001b[0m\u001b[0;34m.\u001b[0m\u001b[0m_active_spark_context\u001b[0m \u001b[0;32mis\u001b[0m \u001b[0;32mNone\u001b[0m\u001b[0;34m:\u001b[0m\u001b[0;34m\u001b[0m\u001b[0;34m\u001b[0m\u001b[0m\n\u001b[0;32m--> 384\u001b[0;31m                 \u001b[0mSparkContext\u001b[0m\u001b[0;34m(\u001b[0m\u001b[0mconf\u001b[0m\u001b[0;34m=\u001b[0m\u001b[0mconf\u001b[0m \u001b[0;32mor\u001b[0m \u001b[0mSparkConf\u001b[0m\u001b[0;34m(\u001b[0m\u001b[0;34m)\u001b[0m\u001b[0;34m)\u001b[0m\u001b[0;34m\u001b[0m\u001b[0;34m\u001b[0m\u001b[0m\n\u001b[0m\u001b[1;32m    385\u001b[0m             \u001b[0;32mreturn\u001b[0m \u001b[0mSparkContext\u001b[0m\u001b[0;34m.\u001b[0m\u001b[0m_active_spark_context\u001b[0m\u001b[0;34m\u001b[0m\u001b[0;34m\u001b[0m\u001b[0m\n\u001b[1;32m    386\u001b[0m \u001b[0;34m\u001b[0m\u001b[0m\n",
      "\u001b[0;32m~/anaconda3/lib/python3.9/site-packages/pyspark/context.py\u001b[0m in \u001b[0;36m__init__\u001b[0;34m(self, master, appName, sparkHome, pyFiles, environment, batchSize, serializer, conf, gateway, jsc, profiler_cls)\u001b[0m\n\u001b[1;32m    142\u001b[0m                 \" is not allowed as it is a security risk.\")\n\u001b[1;32m    143\u001b[0m \u001b[0;34m\u001b[0m\u001b[0m\n\u001b[0;32m--> 144\u001b[0;31m         \u001b[0mSparkContext\u001b[0m\u001b[0;34m.\u001b[0m\u001b[0m_ensure_initialized\u001b[0m\u001b[0;34m(\u001b[0m\u001b[0mself\u001b[0m\u001b[0;34m,\u001b[0m \u001b[0mgateway\u001b[0m\u001b[0;34m=\u001b[0m\u001b[0mgateway\u001b[0m\u001b[0;34m,\u001b[0m \u001b[0mconf\u001b[0m\u001b[0;34m=\u001b[0m\u001b[0mconf\u001b[0m\u001b[0;34m)\u001b[0m\u001b[0;34m\u001b[0m\u001b[0;34m\u001b[0m\u001b[0m\n\u001b[0m\u001b[1;32m    145\u001b[0m         \u001b[0;32mtry\u001b[0m\u001b[0;34m:\u001b[0m\u001b[0;34m\u001b[0m\u001b[0;34m\u001b[0m\u001b[0m\n\u001b[1;32m    146\u001b[0m             self._do_init(master, appName, sparkHome, pyFiles, environment, batchSize, serializer,\n",
      "\u001b[0;32m~/anaconda3/lib/python3.9/site-packages/pyspark/context.py\u001b[0m in \u001b[0;36m_ensure_initialized\u001b[0;34m(cls, instance, gateway, conf)\u001b[0m\n\u001b[1;32m    329\u001b[0m         \u001b[0;32mwith\u001b[0m \u001b[0mSparkContext\u001b[0m\u001b[0;34m.\u001b[0m\u001b[0m_lock\u001b[0m\u001b[0;34m:\u001b[0m\u001b[0;34m\u001b[0m\u001b[0;34m\u001b[0m\u001b[0m\n\u001b[1;32m    330\u001b[0m             \u001b[0;32mif\u001b[0m \u001b[0;32mnot\u001b[0m \u001b[0mSparkContext\u001b[0m\u001b[0;34m.\u001b[0m\u001b[0m_gateway\u001b[0m\u001b[0;34m:\u001b[0m\u001b[0;34m\u001b[0m\u001b[0;34m\u001b[0m\u001b[0m\n\u001b[0;32m--> 331\u001b[0;31m                 \u001b[0mSparkContext\u001b[0m\u001b[0;34m.\u001b[0m\u001b[0m_gateway\u001b[0m \u001b[0;34m=\u001b[0m \u001b[0mgateway\u001b[0m \u001b[0;32mor\u001b[0m \u001b[0mlaunch_gateway\u001b[0m\u001b[0;34m(\u001b[0m\u001b[0mconf\u001b[0m\u001b[0;34m)\u001b[0m\u001b[0;34m\u001b[0m\u001b[0;34m\u001b[0m\u001b[0m\n\u001b[0m\u001b[1;32m    332\u001b[0m                 \u001b[0mSparkContext\u001b[0m\u001b[0;34m.\u001b[0m\u001b[0m_jvm\u001b[0m \u001b[0;34m=\u001b[0m \u001b[0mSparkContext\u001b[0m\u001b[0;34m.\u001b[0m\u001b[0m_gateway\u001b[0m\u001b[0;34m.\u001b[0m\u001b[0mjvm\u001b[0m\u001b[0;34m\u001b[0m\u001b[0;34m\u001b[0m\u001b[0m\n\u001b[1;32m    333\u001b[0m \u001b[0;34m\u001b[0m\u001b[0m\n",
      "\u001b[0;32m~/anaconda3/lib/python3.9/site-packages/pyspark/java_gateway.py\u001b[0m in \u001b[0;36mlaunch_gateway\u001b[0;34m(conf, popen_kwargs)\u001b[0m\n\u001b[1;32m    106\u001b[0m \u001b[0;34m\u001b[0m\u001b[0m\n\u001b[1;32m    107\u001b[0m             \u001b[0;32mif\u001b[0m \u001b[0;32mnot\u001b[0m \u001b[0mos\u001b[0m\u001b[0;34m.\u001b[0m\u001b[0mpath\u001b[0m\u001b[0;34m.\u001b[0m\u001b[0misfile\u001b[0m\u001b[0;34m(\u001b[0m\u001b[0mconn_info_file\u001b[0m\u001b[0;34m)\u001b[0m\u001b[0;34m:\u001b[0m\u001b[0;34m\u001b[0m\u001b[0;34m\u001b[0m\u001b[0m\n\u001b[0;32m--> 108\u001b[0;31m                 \u001b[0;32mraise\u001b[0m \u001b[0mException\u001b[0m\u001b[0;34m(\u001b[0m\u001b[0;34m\"Java gateway process exited before sending its port number\"\u001b[0m\u001b[0;34m)\u001b[0m\u001b[0;34m\u001b[0m\u001b[0;34m\u001b[0m\u001b[0m\n\u001b[0m\u001b[1;32m    109\u001b[0m \u001b[0;34m\u001b[0m\u001b[0m\n\u001b[1;32m    110\u001b[0m             \u001b[0;32mwith\u001b[0m \u001b[0mopen\u001b[0m\u001b[0;34m(\u001b[0m\u001b[0mconn_info_file\u001b[0m\u001b[0;34m,\u001b[0m \u001b[0;34m\"rb\"\u001b[0m\u001b[0;34m)\u001b[0m \u001b[0;32mas\u001b[0m \u001b[0minfo\u001b[0m\u001b[0;34m:\u001b[0m\u001b[0;34m\u001b[0m\u001b[0;34m\u001b[0m\u001b[0m\n",
      "\u001b[0;31mException\u001b[0m: Java gateway process exited before sending its port number"
     ]
    }
   ],
   "source": [
    "from pyspark.sql import SparkSession\n",
    "my_spark = SparkSession.builder.getOrCreate()"
   ]
  },
  {
   "cell_type": "code",
   "execution_count": 26,
   "metadata": {},
   "outputs": [
    {
     "ename": "NameError",
     "evalue": "name 'spark' is not defined",
     "output_type": "error",
     "traceback": [
      "\u001b[0;31m---------------------------------------------------------------------------\u001b[0m",
      "\u001b[0;31mNameError\u001b[0m                                 Traceback (most recent call last)",
      "\u001b[0;32m/tmp/ipykernel_88644/1651968354.py\u001b[0m in \u001b[0;36m<module>\u001b[0;34m\u001b[0m\n\u001b[0;32m----> 1\u001b[0;31m \u001b[0mdata\u001b[0m \u001b[0;34m=\u001b[0m \u001b[0mspark\u001b[0m\u001b[0;34m.\u001b[0m\u001b[0mread\u001b[0m\u001b[0;34m.\u001b[0m\u001b[0mcsv\u001b[0m\u001b[0;34m(\u001b[0m\u001b[0;34m\"healthData.csv.csv\"\u001b[0m\u001b[0;34m)\u001b[0m\u001b[0;34m\u001b[0m\u001b[0;34m\u001b[0m\u001b[0m\n\u001b[0m\u001b[1;32m      2\u001b[0m \u001b[0mdata\u001b[0m\u001b[0;34m.\u001b[0m\u001b[0mprintSchema\u001b[0m\u001b[0;34m(\u001b[0m\u001b[0;34m)\u001b[0m\u001b[0;34m\u001b[0m\u001b[0;34m\u001b[0m\u001b[0m\n",
      "\u001b[0;31mNameError\u001b[0m: name 'spark' is not defined"
     ]
    }
   ],
   "source": [
    "data = spark.read.csv(\"healthData.csv.csv\")\n",
    "data.printSchema()"
   ]
  },
  {
   "cell_type": "code",
   "execution_count": null,
   "metadata": {},
   "outputs": [],
   "source": []
  }
 ],
 "metadata": {
  "interpreter": {
   "hash": "1f56e9671c45237803796d6d43f37af9ccf334edeac63f5f13c19b485064c761"
  },
  "kernelspec": {
   "display_name": "Python 3 (ipykernel)",
   "language": "python",
   "name": "python3"
  },
  "language_info": {
   "codemirror_mode": {
    "name": "ipython",
    "version": 3
   },
   "file_extension": ".py",
   "mimetype": "text/x-python",
   "name": "python",
   "nbconvert_exporter": "python",
   "pygments_lexer": "ipython3",
   "version": "3.9.7"
  }
 },
 "nbformat": 4,
 "nbformat_minor": 2
}
