{
 "cells": [
  {
   "cell_type": "code",
   "execution_count": 1,
   "id": "62441339",
   "metadata": {},
   "outputs": [],
   "source": [
    "import json\n",
    "\n",
    "def JsonFile(file_name):\n",
    "    with open(file_name) as file:\n",
    "        data = json.load(file)\n",
    "    return data"
   ]
  },
  {
   "cell_type": "code",
   "execution_count": 5,
   "id": "334eee7f",
   "metadata": {},
   "outputs": [],
   "source": [
    "def GetSchema(data):\n",
    "    data =  JsonFile()\n",
    "    File = []\n",
    "    for i in File:\n",
    "        File.append(data[i])\n",
    "       \n",
    "    main_dict = File[1]\n",
    "    main_keys = list(main_dict.keys())\n",
    "    main_vals = list(main_dict.values())\n",
    "    val_types = [type(i) for i in main_dict.values()]\n",
    "\n",
    "    forward = {}\n",
    "    for i in range(len(val_types)):\n",
    "        if val_types[i] == bool:\n",
    "            forward.update({main_keys[i]: {'type': 'boolean', 'tag': '', 'description': '', 'required': False}})\n",
    "        elif val_types[i] == str:\n",
    "            forward.update({main_keys[i]: {'type': 'string', 'tag': '', 'description': '', 'required': False}})\n",
    "        elif val_types[i] == int:\n",
    "            forward.update({main_keys[i]: {'type': 'int', 'tag': '', 'description': '', 'required': False}})\n",
    "        elif val_types == list:\n",
    "                forward.update({main_keys[i]: {'type': 'enum', 'tag': '', 'description': '', 'required': False}})\n",
    "        elif val_types[i] == dict:\n",
    "            forward.update({main_keys[i]: {'type': 'array', 'tag': '', 'description': '', 'required': False,}})\n",
    "        else:\n",
    "            forward.update({main_keys[i]: {'type': val_types[i]}, 'tag': '', 'description': '', 'required': False,})\n",
    "\n",
    "    return forward"
   ]
  },
  {
   "cell_type": "code",
   "execution_count": 7,
   "id": "410cf2c5",
   "metadata": {},
   "outputs": [],
   "source": [
    "import random\n",
    "def save_to_folder(self):\n",
    "    dict_object = GetSchema()\n",
    "    with open(f'~/schema/schema.json', 'w') as schema_data:\n",
    "        json.dump(dict_object, schema_data, indent=4)\n",
    "\n"
   ]
  },
  {
   "cell_type": "code",
   "execution_count": null,
   "id": "fe81db5d",
   "metadata": {},
   "outputs": [],
   "source": [
    "def main():\n",
    "    JsonFile('')"
   ]
  }
 ],
 "metadata": {
  "interpreter": {
   "hash": "1f56e9671c45237803796d6d43f37af9ccf334edeac63f5f13c19b485064c761"
  },
  "kernelspec": {
   "display_name": "Python 3.9.7 ('base')",
   "language": "python",
   "name": "python3"
  },
  "language_info": {
   "codemirror_mode": {
    "name": "ipython",
    "version": 3
   },
   "file_extension": ".py",
   "mimetype": "text/x-python",
   "name": "python",
   "nbconvert_exporter": "python",
   "pygments_lexer": "ipython3",
   "version": "3.9.7"
  }
 },
 "nbformat": 4,
 "nbformat_minor": 5
}
